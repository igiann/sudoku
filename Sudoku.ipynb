{
 "cells": [
  {
   "cell_type": "code",
   "execution_count": 65,
   "metadata": {},
   "outputs": [],
   "source": [
    "import numpy as np\n",
    "#The matrix\n",
    "A = [[5,3,0,0,7,0,0,0,0],\n",
    "     [8,0,0,1,9,5,0,0,0],\n",
    "     [0,9,8,0,0,0,0,6,0],\n",
    "     [8,0,0,0,6,0,0,0,3],\n",
    "     [4,0,0,8,0,3,0,0,1],\n",
    "     [7,0,0,0,2,0,0,0,6],\n",
    "     [0,6,0,0,0,0,2,8,0],\n",
    "     [0,0,0,4,1,9,0,0,5],\n",
    "     [0,0,0,0,8,0,0,7,9]]"
   ]
  },
  {
   "cell_type": "code",
   "execution_count": 66,
   "metadata": {},
   "outputs": [
    {
     "name": "stdout",
     "output_type": "stream",
     "text": [
      "[[5 3 0 0 7 0 0 0 0]\n",
      " [8 0 0 1 9 5 0 0 0]\n",
      " [0 9 8 0 0 0 0 6 0]\n",
      " [8 0 0 0 6 0 0 0 3]\n",
      " [4 0 0 8 0 3 0 0 1]\n",
      " [7 0 0 0 2 0 0 0 6]\n",
      " [0 6 0 0 0 0 2 8 0]\n",
      " [0 0 0 4 1 9 0 0 5]\n",
      " [0 0 0 0 8 0 0 7 9]]\n"
     ]
    }
   ],
   "source": [
    "print(np.matrix(A))"
   ]
  },
  {
   "cell_type": "code",
   "execution_count": 67,
   "metadata": {},
   "outputs": [
    {
     "data": {
      "text/plain": [
       "False"
      ]
     },
     "execution_count": 67,
     "metadata": {},
     "output_type": "execute_result"
    }
   ],
   "source": [
    "def posible(x,y,n):\n",
    "    global A\n",
    "    # Gia grammi\n",
    "    for j in range(0,9):\n",
    "        if A[x][j] == n:\n",
    "            return False\n",
    "    for i in range(0,9):\n",
    "        if A[i][y] == n:\n",
    "            return False\n",
    "    xo = (x//3)*3;\n",
    "    yo = (y//3)*3;\n",
    "    for i in range(xo,xo+3):\n",
    "        for j in range (yo,yo+3):\n",
    "            if A[i][j] == n:\n",
    "                return False\n",
    "    return True\n",
    "\n",
    "posible(0,2,9)"
   ]
  },
  {
   "cell_type": "code",
   "execution_count": 63,
   "metadata": {},
   "outputs": [
    {
     "name": "stdout",
     "output_type": "stream",
     "text": [
      "Posible 0 2 : [1, 2, 4, 6]\n",
      "Posible 0 3 : [2, 6]\n",
      "Posible 0 5 : [2, 4, 6, 8]\n",
      "Posible 0 6 : [1, 4, 8]\n",
      "Posible 0 7 : [1, 2, 4]\n",
      "Posible 0 8 : [2, 4, 8]\n",
      "Posible 1 1 : [2, 4, 7]\n",
      "Posible 1 2 : [2, 4, 6, 7]\n",
      "Posible 1 6 : [3, 4, 7]\n",
      "Posible 1 7 : [2, 3, 4]\n",
      "Posible 1 8 : [2, 4, 7]\n",
      "Posible 2 0 : [1, 2]\n",
      "Posible 2 3 : [2, 3]\n",
      "Posible 2 4 : [3, 4]\n",
      "Posible 2 5 : [2, 4]\n",
      "Posible 2 6 : [1, 3, 4, 5, 7]\n",
      "Posible 2 8 : [2, 4, 7]\n",
      "Posible 3 1 : [1, 2, 5]\n",
      "Posible 3 2 : [1, 2, 5]\n",
      "Posible 3 3 : [5, 7]\n",
      "Posible 3 5 : [1, 4, 7]\n",
      "Posible 3 6 : [4, 5, 7]\n",
      "Posible 3 7 : [2, 4, 5]\n",
      "Posible 4 1 : [2, 5]\n",
      "Posible 4 2 : [2, 5, 6]\n",
      "Posible 4 6 : [5, 7]\n",
      "Posible 4 7 : [2, 5]\n",
      "Posible 5 1 : [1, 5]\n",
      "Posible 5 2 : [1, 3, 5]\n",
      "Posible 5 5 : [1, 4]\n",
      "Posible 5 6 : [4, 5, 8]\n",
      "Posible 5 7 : [4, 5]\n",
      "Posible 6 0 : [1, 3]\n",
      "Posible 6 2 : [1, 3, 4, 5, 7]\n",
      "Posible 6 3 : [3, 5, 7]\n",
      "Posible 6 4 : [3, 5]\n",
      "Posible 7 0 : [2, 3]\n",
      "Posible 7 1 : [2, 7, 8]\n",
      "Posible 7 2 : [2, 3, 7]\n",
      "Posible 7 6 : [3, 6]\n",
      "Posible 8 0 : [1, 2, 3]\n",
      "Posible 8 1 : [1, 2, 4, 5]\n",
      "Posible 8 2 : [1, 2, 3, 4, 5]\n",
      "Posible 8 3 : [2, 3, 5, 6]\n",
      "Posible 8 5 : [2, 6]\n",
      "Posible 8 6 : [1, 3, 4, 6]\n"
     ]
    }
   ],
   "source": [
    "for i in range(0,9):\n",
    "    for j in range(0,9):\n",
    "        if A[i][j]==0:\n",
    "            pos = [];\n",
    "            for n in range(0,9):\n",
    "                if posible(i,j,n):\n",
    "                    pos.append(n)\n",
    "            if len(pos) == 1:\n",
    "                print('Posible',i,j,':',pos)\n",
    "                A[i][j] = pos(0)\n",
    "            print('Posible',i,j,':',pos)"
   ]
  },
  {
   "cell_type": "code",
   "execution_count": 68,
   "metadata": {},
   "outputs": [
    {
     "name": "stdout",
     "output_type": "stream",
     "text": [
      "[[5 3 0 0 7 0 0 0 0]\n",
      " [8 0 0 1 9 5 0 0 0]\n",
      " [0 9 8 0 0 0 0 6 0]\n",
      " [8 0 0 0 6 0 0 0 3]\n",
      " [4 0 0 8 0 3 0 0 1]\n",
      " [7 0 0 0 2 0 0 0 6]\n",
      " [0 6 0 0 0 0 2 8 0]\n",
      " [0 0 0 4 1 9 0 0 5]\n",
      " [0 0 0 0 8 0 0 7 9]]\n"
     ]
    }
   ],
   "source": [
    "print(np.matrix(A))\n"
   ]
  },
  {
   "cell_type": "code",
   "execution_count": null,
   "metadata": {},
   "outputs": [],
   "source": []
  }
 ],
 "metadata": {
  "kernelspec": {
   "display_name": "Python 3",
   "language": "python",
   "name": "python3"
  },
  "language_info": {
   "codemirror_mode": {
    "name": "ipython",
    "version": 3
   },
   "file_extension": ".py",
   "mimetype": "text/x-python",
   "name": "python",
   "nbconvert_exporter": "python",
   "pygments_lexer": "ipython3",
   "version": "3.8.5"
  }
 },
 "nbformat": 4,
 "nbformat_minor": 4
}
